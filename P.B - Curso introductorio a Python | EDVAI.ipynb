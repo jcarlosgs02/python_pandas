{
  "nbformat": 4,
  "nbformat_minor": 0,
  "metadata": {
    "colab": {
      "name": "P.B - Curso introductorio a Python | EDVAI.ipynb",
      "provenance": []
    },
    "kernelspec": {
      "name": "python3",
      "display_name": "Python 3"
    }
  },
  "cells": [
    {
      "cell_type": "markdown",
      "metadata": {
        "id": "8mHKard7bAtU"
      },
      "source": [
        "\n",
        "<img src=\"https://i.ibb.co/PQjhtPK/Logo-Datos-Vivos.png\" width=\"400px\"> \n",
        "\n",
        "# Curso Introductorio de Python\n",
        "\n",
        "Publicado por [Escuela de Datos Vivos](https://escueladedatosvivos.ai/) (EDVAI) | [Página oficial del curso](https://escueladedatosvivos.ai/p/curso-gratuito-introduccion-a-python)\n",
        "\n",
        "Seguinos en las redes para mas contenido:\n",
        " [Instagram](https://www.instagram.com/escueladedatosvivos/) | [Linkedin](https://www.linkedin.com/company/escuela-de-datos-vivos/) | [Twitter](https://twitter.com/datos_vivos) \n",
        "\n",
        "Canal de [YouTube](https://www.youtube.com/c/Escueladedatosvivosai).\n",
        "\n",
        "<br>\n",
        "\n",
        "\n",
        "Profesor: [Pablo Casas](https://www.linkedin.com/in/pcasas/).\n",
        "\n",
        "---"
      ]
    },
    {
      "cell_type": "markdown",
      "metadata": {
        "id": "C0KDC7G1bmeP"
      },
      "source": [
        "# Operaciones generales sobre pandas data frame"
      ]
    },
    {
      "cell_type": "code",
      "metadata": {
        "id": "62Opin18GM2m"
      },
      "source": [
        "import pandas as pd"
      ],
      "execution_count": null,
      "outputs": []
    },
    {
      "cell_type": "code",
      "metadata": {
        "id": "gL3XTc7fw8RG"
      },
      "source": [
        ""
      ],
      "execution_count": null,
      "outputs": []
    },
    {
      "cell_type": "code",
      "metadata": {
        "id": "jqISvVyeGHkH",
        "colab": {
          "base_uri": "https://localhost:8080/",
          "height": 398
        },
        "outputId": "1700fd7e-3203-4d92-bd17-9a5c031b6a82"
      },
      "source": [
        "d_star_wars=pd.read_csv(filepath_or_buffer=\"/content/drive/MyDrive/Cursos/Intro Python/data/starwars.csv\", sep=',')\n",
        "d_star_wars"
      ],
      "execution_count": null,
      "outputs": [
        {
          "output_type": "error",
          "ename": "FileNotFoundError",
          "evalue": "ignored",
          "traceback": [
            "\u001b[0;31m---------------------------------------------------------------------------\u001b[0m",
            "\u001b[0;31mFileNotFoundError\u001b[0m                         Traceback (most recent call last)",
            "\u001b[0;32m<ipython-input-7-5c6dcc628352>\u001b[0m in \u001b[0;36m<module>\u001b[0;34m()\u001b[0m\n\u001b[0;32m----> 1\u001b[0;31m \u001b[0md_star_wars\u001b[0m\u001b[0;34m=\u001b[0m\u001b[0mpd\u001b[0m\u001b[0;34m.\u001b[0m\u001b[0mread_csv\u001b[0m\u001b[0;34m(\u001b[0m\u001b[0mfilepath_or_buffer\u001b[0m\u001b[0;34m=\u001b[0m\u001b[0;34m\"/content/drive/MyDrive/Cursos/Intro Python/data/starwars.csv\"\u001b[0m\u001b[0;34m,\u001b[0m \u001b[0msep\u001b[0m\u001b[0;34m=\u001b[0m\u001b[0;34m','\u001b[0m\u001b[0;34m)\u001b[0m\u001b[0;34m\u001b[0m\u001b[0;34m\u001b[0m\u001b[0m\n\u001b[0m\u001b[1;32m      2\u001b[0m \u001b[0md_star_wars\u001b[0m\u001b[0;34m\u001b[0m\u001b[0;34m\u001b[0m\u001b[0m\n",
            "\u001b[0;32m/usr/local/lib/python3.7/dist-packages/pandas/io/parsers.py\u001b[0m in \u001b[0;36mread_csv\u001b[0;34m(filepath_or_buffer, sep, delimiter, header, names, index_col, usecols, squeeze, prefix, mangle_dupe_cols, dtype, engine, converters, true_values, false_values, skipinitialspace, skiprows, skipfooter, nrows, na_values, keep_default_na, na_filter, verbose, skip_blank_lines, parse_dates, infer_datetime_format, keep_date_col, date_parser, dayfirst, cache_dates, iterator, chunksize, compression, thousands, decimal, lineterminator, quotechar, quoting, doublequote, escapechar, comment, encoding, dialect, error_bad_lines, warn_bad_lines, delim_whitespace, low_memory, memory_map, float_precision)\u001b[0m\n\u001b[1;32m    686\u001b[0m     )\n\u001b[1;32m    687\u001b[0m \u001b[0;34m\u001b[0m\u001b[0m\n\u001b[0;32m--> 688\u001b[0;31m     \u001b[0;32mreturn\u001b[0m \u001b[0m_read\u001b[0m\u001b[0;34m(\u001b[0m\u001b[0mfilepath_or_buffer\u001b[0m\u001b[0;34m,\u001b[0m \u001b[0mkwds\u001b[0m\u001b[0;34m)\u001b[0m\u001b[0;34m\u001b[0m\u001b[0;34m\u001b[0m\u001b[0m\n\u001b[0m\u001b[1;32m    689\u001b[0m \u001b[0;34m\u001b[0m\u001b[0m\n\u001b[1;32m    690\u001b[0m \u001b[0;34m\u001b[0m\u001b[0m\n",
            "\u001b[0;32m/usr/local/lib/python3.7/dist-packages/pandas/io/parsers.py\u001b[0m in \u001b[0;36m_read\u001b[0;34m(filepath_or_buffer, kwds)\u001b[0m\n\u001b[1;32m    452\u001b[0m \u001b[0;34m\u001b[0m\u001b[0m\n\u001b[1;32m    453\u001b[0m     \u001b[0;31m# Create the parser.\u001b[0m\u001b[0;34m\u001b[0m\u001b[0;34m\u001b[0m\u001b[0;34m\u001b[0m\u001b[0m\n\u001b[0;32m--> 454\u001b[0;31m     \u001b[0mparser\u001b[0m \u001b[0;34m=\u001b[0m \u001b[0mTextFileReader\u001b[0m\u001b[0;34m(\u001b[0m\u001b[0mfp_or_buf\u001b[0m\u001b[0;34m,\u001b[0m \u001b[0;34m**\u001b[0m\u001b[0mkwds\u001b[0m\u001b[0;34m)\u001b[0m\u001b[0;34m\u001b[0m\u001b[0;34m\u001b[0m\u001b[0m\n\u001b[0m\u001b[1;32m    455\u001b[0m \u001b[0;34m\u001b[0m\u001b[0m\n\u001b[1;32m    456\u001b[0m     \u001b[0;32mif\u001b[0m \u001b[0mchunksize\u001b[0m \u001b[0;32mor\u001b[0m \u001b[0miterator\u001b[0m\u001b[0;34m:\u001b[0m\u001b[0;34m\u001b[0m\u001b[0;34m\u001b[0m\u001b[0m\n",
            "\u001b[0;32m/usr/local/lib/python3.7/dist-packages/pandas/io/parsers.py\u001b[0m in \u001b[0;36m__init__\u001b[0;34m(self, f, engine, **kwds)\u001b[0m\n\u001b[1;32m    946\u001b[0m             \u001b[0mself\u001b[0m\u001b[0;34m.\u001b[0m\u001b[0moptions\u001b[0m\u001b[0;34m[\u001b[0m\u001b[0;34m\"has_index_names\"\u001b[0m\u001b[0;34m]\u001b[0m \u001b[0;34m=\u001b[0m \u001b[0mkwds\u001b[0m\u001b[0;34m[\u001b[0m\u001b[0;34m\"has_index_names\"\u001b[0m\u001b[0;34m]\u001b[0m\u001b[0;34m\u001b[0m\u001b[0;34m\u001b[0m\u001b[0m\n\u001b[1;32m    947\u001b[0m \u001b[0;34m\u001b[0m\u001b[0m\n\u001b[0;32m--> 948\u001b[0;31m         \u001b[0mself\u001b[0m\u001b[0;34m.\u001b[0m\u001b[0m_make_engine\u001b[0m\u001b[0;34m(\u001b[0m\u001b[0mself\u001b[0m\u001b[0;34m.\u001b[0m\u001b[0mengine\u001b[0m\u001b[0;34m)\u001b[0m\u001b[0;34m\u001b[0m\u001b[0;34m\u001b[0m\u001b[0m\n\u001b[0m\u001b[1;32m    949\u001b[0m \u001b[0;34m\u001b[0m\u001b[0m\n\u001b[1;32m    950\u001b[0m     \u001b[0;32mdef\u001b[0m \u001b[0mclose\u001b[0m\u001b[0;34m(\u001b[0m\u001b[0mself\u001b[0m\u001b[0;34m)\u001b[0m\u001b[0;34m:\u001b[0m\u001b[0;34m\u001b[0m\u001b[0;34m\u001b[0m\u001b[0m\n",
            "\u001b[0;32m/usr/local/lib/python3.7/dist-packages/pandas/io/parsers.py\u001b[0m in \u001b[0;36m_make_engine\u001b[0;34m(self, engine)\u001b[0m\n\u001b[1;32m   1178\u001b[0m     \u001b[0;32mdef\u001b[0m \u001b[0m_make_engine\u001b[0m\u001b[0;34m(\u001b[0m\u001b[0mself\u001b[0m\u001b[0;34m,\u001b[0m \u001b[0mengine\u001b[0m\u001b[0;34m=\u001b[0m\u001b[0;34m\"c\"\u001b[0m\u001b[0;34m)\u001b[0m\u001b[0;34m:\u001b[0m\u001b[0;34m\u001b[0m\u001b[0;34m\u001b[0m\u001b[0m\n\u001b[1;32m   1179\u001b[0m         \u001b[0;32mif\u001b[0m \u001b[0mengine\u001b[0m \u001b[0;34m==\u001b[0m \u001b[0;34m\"c\"\u001b[0m\u001b[0;34m:\u001b[0m\u001b[0;34m\u001b[0m\u001b[0;34m\u001b[0m\u001b[0m\n\u001b[0;32m-> 1180\u001b[0;31m             \u001b[0mself\u001b[0m\u001b[0;34m.\u001b[0m\u001b[0m_engine\u001b[0m \u001b[0;34m=\u001b[0m \u001b[0mCParserWrapper\u001b[0m\u001b[0;34m(\u001b[0m\u001b[0mself\u001b[0m\u001b[0;34m.\u001b[0m\u001b[0mf\u001b[0m\u001b[0;34m,\u001b[0m \u001b[0;34m**\u001b[0m\u001b[0mself\u001b[0m\u001b[0;34m.\u001b[0m\u001b[0moptions\u001b[0m\u001b[0;34m)\u001b[0m\u001b[0;34m\u001b[0m\u001b[0;34m\u001b[0m\u001b[0m\n\u001b[0m\u001b[1;32m   1181\u001b[0m         \u001b[0;32melse\u001b[0m\u001b[0;34m:\u001b[0m\u001b[0;34m\u001b[0m\u001b[0;34m\u001b[0m\u001b[0m\n\u001b[1;32m   1182\u001b[0m             \u001b[0;32mif\u001b[0m \u001b[0mengine\u001b[0m \u001b[0;34m==\u001b[0m \u001b[0;34m\"python\"\u001b[0m\u001b[0;34m:\u001b[0m\u001b[0;34m\u001b[0m\u001b[0;34m\u001b[0m\u001b[0m\n",
            "\u001b[0;32m/usr/local/lib/python3.7/dist-packages/pandas/io/parsers.py\u001b[0m in \u001b[0;36m__init__\u001b[0;34m(self, src, **kwds)\u001b[0m\n\u001b[1;32m   2008\u001b[0m         \u001b[0mkwds\u001b[0m\u001b[0;34m[\u001b[0m\u001b[0;34m\"usecols\"\u001b[0m\u001b[0;34m]\u001b[0m \u001b[0;34m=\u001b[0m \u001b[0mself\u001b[0m\u001b[0;34m.\u001b[0m\u001b[0musecols\u001b[0m\u001b[0;34m\u001b[0m\u001b[0;34m\u001b[0m\u001b[0m\n\u001b[1;32m   2009\u001b[0m \u001b[0;34m\u001b[0m\u001b[0m\n\u001b[0;32m-> 2010\u001b[0;31m         \u001b[0mself\u001b[0m\u001b[0;34m.\u001b[0m\u001b[0m_reader\u001b[0m \u001b[0;34m=\u001b[0m \u001b[0mparsers\u001b[0m\u001b[0;34m.\u001b[0m\u001b[0mTextReader\u001b[0m\u001b[0;34m(\u001b[0m\u001b[0msrc\u001b[0m\u001b[0;34m,\u001b[0m \u001b[0;34m**\u001b[0m\u001b[0mkwds\u001b[0m\u001b[0;34m)\u001b[0m\u001b[0;34m\u001b[0m\u001b[0;34m\u001b[0m\u001b[0m\n\u001b[0m\u001b[1;32m   2011\u001b[0m         \u001b[0mself\u001b[0m\u001b[0;34m.\u001b[0m\u001b[0munnamed_cols\u001b[0m \u001b[0;34m=\u001b[0m \u001b[0mself\u001b[0m\u001b[0;34m.\u001b[0m\u001b[0m_reader\u001b[0m\u001b[0;34m.\u001b[0m\u001b[0munnamed_cols\u001b[0m\u001b[0;34m\u001b[0m\u001b[0;34m\u001b[0m\u001b[0m\n\u001b[1;32m   2012\u001b[0m \u001b[0;34m\u001b[0m\u001b[0m\n",
            "\u001b[0;32mpandas/_libs/parsers.pyx\u001b[0m in \u001b[0;36mpandas._libs.parsers.TextReader.__cinit__\u001b[0;34m()\u001b[0m\n",
            "\u001b[0;32mpandas/_libs/parsers.pyx\u001b[0m in \u001b[0;36mpandas._libs.parsers.TextReader._setup_parser_source\u001b[0;34m()\u001b[0m\n",
            "\u001b[0;31mFileNotFoundError\u001b[0m: [Errno 2] No such file or directory: '/content/drive/MyDrive/Cursos/Intro Python/data/starwars.csv'"
          ]
        }
      ]
    },
    {
      "cell_type": "code",
      "metadata": {
        "id": "3mWKrP4fGO7M"
      },
      "source": [
        "d_star_wars.columns"
      ],
      "execution_count": null,
      "outputs": []
    },
    {
      "cell_type": "markdown",
      "metadata": {
        "id": "MePWE18gJa_S"
      },
      "source": [
        "### 1) ¿Cómo eliminar columnas?"
      ]
    },
    {
      "cell_type": "code",
      "metadata": {
        "id": "m5OrOQeaJDaK"
      },
      "source": [
        "# Una columna\n",
        "d_star_wars.drop(columns='name')"
      ],
      "execution_count": null,
      "outputs": []
    },
    {
      "cell_type": "code",
      "metadata": {
        "id": "e5mTggzEJGir"
      },
      "source": [
        "# Eliminar N columnas\n",
        "d_star_wars.drop(columns=['name', 'height'])"
      ],
      "execution_count": null,
      "outputs": []
    },
    {
      "cell_type": "code",
      "metadata": {
        "id": "1BM3OjyqbtGE"
      },
      "source": [
        "\n",
        "\n",
        "\n",
        "\n",
        "\n",
        "\n",
        "\n"
      ],
      "execution_count": null,
      "outputs": []
    },
    {
      "cell_type": "markdown",
      "metadata": {
        "id": "PklGrUPQJ4eC"
      },
      "source": [
        "### 2) ¿Cómo eliminar duplicados?"
      ]
    },
    {
      "cell_type": "code",
      "metadata": {
        "id": "KzQV7mBCJlLo"
      },
      "source": [
        "d_star_wars_2=d_star_wars[['hair_color',\t'skin_color']]\n",
        "\n",
        "d_star_wars_3=d_star_wars_2.drop_duplicates()\n",
        "\n",
        "d_star_wars_3"
      ],
      "execution_count": null,
      "outputs": []
    },
    {
      "cell_type": "code",
      "metadata": {
        "id": "ZSno-s8cf1bb"
      },
      "source": [
        "d_star_wars_3.shape"
      ],
      "execution_count": null,
      "outputs": []
    },
    {
      "cell_type": "markdown",
      "metadata": {
        "id": "gCfcuWPggcmU"
      },
      "source": [
        "2.b) ¿Cómo obtener los registros duplicados?"
      ]
    },
    {
      "cell_type": "code",
      "metadata": {
        "id": "1f24f6PTf6nP"
      },
      "source": [
        "d_star_wars_2[d_star_wars_2.duplicated()].shape"
      ],
      "execution_count": null,
      "outputs": []
    },
    {
      "cell_type": "code",
      "metadata": {
        "id": "2QdjA1yUbuT0"
      },
      "source": [
        "\n",
        "\n",
        "\n",
        "\n",
        "\n",
        "\n",
        "\n",
        "\n",
        "\n",
        "\n",
        "\n",
        "\n"
      ],
      "execution_count": null,
      "outputs": []
    },
    {
      "cell_type": "markdown",
      "metadata": {
        "id": "mGuyItlJKTNT"
      },
      "source": [
        "### 3) ¿Cómo ordenar un data frame?\n"
      ]
    },
    {
      "cell_type": "code",
      "metadata": {
        "id": "FGI0UxcbKYPn"
      },
      "source": [
        "d_star_wars.sort_values('birth_year') # analizar los últimos valores..."
      ],
      "execution_count": null,
      "outputs": []
    },
    {
      "cell_type": "code",
      "metadata": {
        "id": "9jv5L6cQ1U_j"
      },
      "source": [
        "# Orden descendente\n",
        "d_star_wars.sort_values('birth_year', ascending=False)"
      ],
      "execution_count": null,
      "outputs": []
    },
    {
      "cell_type": "code",
      "metadata": {
        "id": "r79Bxnr11YDc"
      },
      "source": [
        "\n",
        "\n",
        "\n",
        "\n",
        "\n",
        "\n",
        "\n",
        "\n",
        "\n"
      ],
      "execution_count": null,
      "outputs": []
    },
    {
      "cell_type": "code",
      "metadata": {
        "id": "eAhaXOU-KEUz"
      },
      "source": [
        "from google.colab.data_table import DataTable\n",
        "\n",
        "# Ordenar por dos columnas\n",
        "DataTable(d_star_wars.sort_values(['species', 'birth_year']))"
      ],
      "execution_count": null,
      "outputs": []
    },
    {
      "cell_type": "code",
      "metadata": {
        "id": "1-v3xZBhgquH"
      },
      "source": [
        "\n",
        "\n",
        "\n"
      ],
      "execution_count": null,
      "outputs": []
    },
    {
      "cell_type": "code",
      "metadata": {
        "id": "P7MbdXrwLgCY"
      },
      "source": [
        "# Emprolijar para chequear\n",
        "d_sw_ordenado=d_star_wars.sort_values(['species', 'birth_year'])"
      ],
      "execution_count": null,
      "outputs": []
    },
    {
      "cell_type": "code",
      "metadata": {
        "id": "sGPAl_MgL5-W"
      },
      "source": [
        "# Error:\n",
        "# d_sw_ordenado=d_sw_ordenado['species', 'birth_year'])"
      ],
      "execution_count": null,
      "outputs": []
    },
    {
      "cell_type": "code",
      "metadata": {
        "id": "Owp8WOfFN6M8"
      },
      "source": [
        "# Ok\n",
        "d_sw_ordenado=d_sw_ordenado[['species', 'birth_year']]\n",
        "\n",
        "DataTable(d_sw_ordenado)"
      ],
      "execution_count": null,
      "outputs": []
    },
    {
      "cell_type": "code",
      "metadata": {
        "id": "HxyGyxC9LOnU"
      },
      "source": [
        "\n",
        "\n",
        "\n",
        "\n",
        "\n",
        "\n",
        "\n",
        "\n",
        "\n",
        "\n"
      ],
      "execution_count": null,
      "outputs": []
    },
    {
      "cell_type": "markdown",
      "metadata": {
        "id": "aBMj5pU35vUc"
      },
      "source": [
        "### 4) ¿Cómo crear una variable en un dataframe?"
      ]
    },
    {
      "cell_type": "code",
      "metadata": {
        "id": "H_pKgFic6cCg"
      },
      "source": [
        "d_star_wars['nueva_variable']=999\n",
        "\n",
        "d_star_wars"
      ],
      "execution_count": null,
      "outputs": []
    },
    {
      "cell_type": "code",
      "metadata": {
        "id": "M0z8mewE51Wo"
      },
      "source": [
        "# Pasando a metros la altura\n",
        "d_star_wars['height_mts']=d_star_wars['height']/100\n",
        "\n",
        "d_star_wars.head()"
      ],
      "execution_count": null,
      "outputs": []
    },
    {
      "cell_type": "code",
      "metadata": {
        "id": "-Z6X3plZkhTU"
      },
      "source": [
        "\n",
        "\n",
        "\n",
        "\n",
        "\n",
        "\n",
        "\n",
        "\n",
        "\n"
      ],
      "execution_count": null,
      "outputs": []
    },
    {
      "cell_type": "markdown",
      "metadata": {
        "id": "bPKSxpwP6SLj"
      },
      "source": [
        "### 5) ¿Cómo reordenar variables en un pandas data frame?\n"
      ]
    },
    {
      "cell_type": "code",
      "metadata": {
        "id": "17Apo11C51Y2"
      },
      "source": [
        "# R: select()\n",
        "\n",
        "# subset\n",
        "d_star_wars_4=d_star_wars.iloc[:, 0:3]\n",
        "d_star_wars_4.columns"
      ],
      "execution_count": null,
      "outputs": []
    },
    {
      "cell_type": "code",
      "metadata": {
        "id": "a3ZpvfSOmTbQ"
      },
      "source": [
        "# reorden\n",
        "d_star_wars_5=d_star_wars_4[['mass', 'height', 'name']]"
      ],
      "execution_count": null,
      "outputs": []
    },
    {
      "cell_type": "code",
      "metadata": {
        "id": "rVtZBsEol00w"
      },
      "source": [
        "\n",
        "\n",
        "\n",
        "\n",
        "\n"
      ],
      "execution_count": null,
      "outputs": []
    },
    {
      "cell_type": "markdown",
      "metadata": {
        "id": "xK6fx3RVm9Nd"
      },
      "source": [
        "### 6) ¿Cómo renombrar variables?\n",
        "\n",
        "En R es muy parecido, función `rename`."
      ]
    },
    {
      "cell_type": "code",
      "metadata": {
        "id": "yR2bB2avqgkR"
      },
      "source": [
        "d_star_wars_5.head()"
      ],
      "execution_count": null,
      "outputs": []
    },
    {
      "cell_type": "code",
      "metadata": {
        "id": "ZsXsmQ9xqwob"
      },
      "source": [
        "d_star_wars_5.rename(columns={'mass':'peso', 'height':'altura', 'name':'nombre'}).head()"
      ],
      "execution_count": null,
      "outputs": []
    },
    {
      "cell_type": "code",
      "metadata": {
        "id": "zfyQ7hGIqg-O"
      },
      "source": [
        "# Aplicar función a todas las columnas. Todo a minúscula o mayúscula\n",
        "str.lower('HOLA')\n",
        "\n",
        "d_star_wars_5.rename(str.upper, axis=\"columns\").head()"
      ],
      "execution_count": null,
      "outputs": []
    },
    {
      "cell_type": "code",
      "metadata": {
        "id": "vGIxtXfBuG6c"
      },
      "source": [
        "\n",
        "\n",
        "\n",
        "\n",
        "\n",
        "\n",
        "\n"
      ],
      "execution_count": null,
      "outputs": []
    },
    {
      "cell_type": "markdown",
      "metadata": {
        "id": "Y-q9S_dRull9"
      },
      "source": [
        "Eliminar espacios de las columnas"
      ]
    },
    {
      "cell_type": "code",
      "metadata": {
        "id": "D7LRTDk5s_8f"
      },
      "source": [
        "d_star_wars_6=d_star_wars_5.rename(columns={'mass':'peso del personaje', 'height':'altura del personaje'})\n",
        "d_star_wars_6.head()"
      ],
      "execution_count": null,
      "outputs": []
    },
    {
      "cell_type": "code",
      "metadata": {
        "id": "DJiLbyiau71a"
      },
      "source": [
        "'hola mundo'.replace(' ', '_')"
      ],
      "execution_count": null,
      "outputs": []
    },
    {
      "cell_type": "code",
      "metadata": {
        "id": "71QxlAIBtN0D"
      },
      "source": [
        "d_star_wars_6.columns=d_star_wars_6.columns.str.replace(' ', '_')\n",
        "\n",
        "d_star_wars_6.head()"
      ],
      "execution_count": null,
      "outputs": []
    },
    {
      "cell_type": "code",
      "metadata": {
        "id": "OMaNV7a6sBjZ"
      },
      "source": [
        "\n",
        "\n",
        "\n",
        "\n",
        "\n"
      ],
      "execution_count": null,
      "outputs": []
    },
    {
      "cell_type": "markdown",
      "metadata": {
        "id": "np3kNIYMw3KR"
      },
      "source": [
        "### 7)  ¿Cómo filtrar datos con pandas query?\n",
        "\n",
        "En R el equivalente es `filter`."
      ]
    },
    {
      "cell_type": "code",
      "metadata": {
        "id": "Xwf0fibjsVGO"
      },
      "source": [
        "d_star_wars.query(\" height > 220 \")"
      ],
      "execution_count": null,
      "outputs": []
    },
    {
      "cell_type": "code",
      "metadata": {
        "id": "NEQL8IzNyymU"
      },
      "source": [
        "# AND\n",
        "d_star_wars.query(\" height > 220 and hair_color == 'brown' \")"
      ],
      "execution_count": null,
      "outputs": []
    },
    {
      "cell_type": "code",
      "metadata": {
        "id": "k4a5JScAzDt2"
      },
      "source": [
        "# OR, filtrar extremos\n",
        "d_star_wars.query(\"height < 150 or height > 220 \")"
      ],
      "execution_count": null,
      "outputs": []
    },
    {
      "cell_type": "code",
      "metadata": {
        "id": "uDuz6LU1MEeK"
      },
      "source": [
        ""
      ],
      "execution_count": null,
      "outputs": []
    },
    {
      "cell_type": "markdown",
      "metadata": {
        "id": "ZqK9gWPYME-A"
      },
      "source": [
        "### 8) Descripción estadística básica\n",
        "*Super preview...*\n",
        "\n",
        "<br>\n",
        "\n",
        "🔥 Anotate al curso gratuito y profundizá: [Introducción a Estadística para ML](https://escueladedatosvivos.ai/p/curso-gratuito-estadistica-para-machine-learning-con-python?UTM_SOURCE=cursointropython)\n",
        "\n",
        "<img src=\"https://drive.google.com/uc?id=101M_yGQsVpBetls4TwXmKQxbve84hKMV\" width='300px'>\n"
      ]
    },
    {
      "cell_type": "code",
      "metadata": {
        "id": "pVKITVh_iFOa"
      },
      "source": [
        "%%capture\n",
        "!pip install funpymodeling"
      ],
      "execution_count": null,
      "outputs": []
    },
    {
      "cell_type": "code",
      "metadata": {
        "id": "2GnjpheSuA4i"
      },
      "source": [
        ""
      ],
      "execution_count": null,
      "outputs": []
    },
    {
      "cell_type": "code",
      "metadata": {
        "id": "3aGmIA0hiI8q"
      },
      "source": [
        "from funpymodeling.exploratory import status, freq_tbl, profiling_num"
      ],
      "execution_count": null,
      "outputs": []
    },
    {
      "cell_type": "code",
      "metadata": {
        "id": "PlvUbvidMdAR"
      },
      "source": [
        "# Análisis univariado var numérica\n",
        "profiling_num(d_star_wars)"
      ],
      "execution_count": null,
      "outputs": []
    },
    {
      "cell_type": "code",
      "metadata": {
        "id": "hwGhyS7YulwE"
      },
      "source": [
        "profiling_num(d_star_wars['birth_year'])"
      ],
      "execution_count": null,
      "outputs": []
    },
    {
      "cell_type": "code",
      "metadata": {
        "id": "Q0a6pyKSiW0N"
      },
      "source": [
        "# Análisis univariado var categórica\n",
        "freq_tbl(d_star_wars)"
      ],
      "execution_count": null,
      "outputs": []
    },
    {
      "cell_type": "code",
      "metadata": {
        "id": "C-3h0HpSAZT7"
      },
      "source": [
        ""
      ],
      "execution_count": null,
      "outputs": []
    },
    {
      "cell_type": "code",
      "metadata": {
        "id": "_f_0EfJyoIs7"
      },
      "source": [
        "\n",
        "\n",
        "\n",
        "\n"
      ],
      "execution_count": null,
      "outputs": []
    },
    {
      "cell_type": "markdown",
      "metadata": {
        "id": "Ru1atKcfoDVR"
      },
      "source": [
        "¿Cómo aplicar funciones de sumarización a cada columna?"
      ]
    },
    {
      "cell_type": "code",
      "metadata": {
        "id": "NcsXO18lMl7i"
      },
      "source": [
        "d_star_wars.max()"
      ],
      "execution_count": null,
      "outputs": []
    },
    {
      "cell_type": "code",
      "metadata": {
        "id": "MOgYCQOmv0sj"
      },
      "source": [
        "d_star_wars.mean()"
      ],
      "execution_count": null,
      "outputs": []
    },
    {
      "cell_type": "code",
      "metadata": {
        "id": "nEoZYhjQwR0b"
      },
      "source": [
        "print(\"El promedio de altura es %s y el  de mass es: %s\" % (d_star_wars['height'].mean(), d_star_wars['mass'].mean()))\n",
        "\n"
      ],
      "execution_count": null,
      "outputs": []
    },
    {
      "cell_type": "code",
      "metadata": {
        "id": "fZhCiwbY2A71"
      },
      "source": [
        "\n",
        "\n",
        "\n",
        "\n"
      ],
      "execution_count": null,
      "outputs": []
    },
    {
      "cell_type": "markdown",
      "metadata": {
        "id": "9zmT8JdO0K3j"
      },
      "source": [
        "#### 🍰 La frutilla del postre: Pandas Profiling \n",
        "\n",
        "*Nota: tenemos que instalar una versión antigua por un error de la lib... ya se solucionará...*\n",
        "\n",
        "[Web oficial Pandas Profiling](https://pandas-profiling.github.io/pandas-profiling/docs/master/index.html/).\n"
      ]
    },
    {
      "cell_type": "code",
      "metadata": {
        "id": "a9-OaGqnzfSu"
      },
      "source": [
        "%%capture \n",
        "!pip install pandas-profiling==2.7.1"
      ],
      "execution_count": null,
      "outputs": []
    },
    {
      "cell_type": "code",
      "metadata": {
        "id": "_gwlM1zezLzo"
      },
      "source": [
        "from pandas_profiling import ProfileReport\n",
        "\n",
        "ProfileReport(d_star_wars)"
      ],
      "execution_count": null,
      "outputs": []
    },
    {
      "cell_type": "code",
      "metadata": {
        "id": "VDj3AVkhoSW3"
      },
      "source": [
        "\n",
        "\n",
        "\n",
        "\n",
        "\n",
        "\n",
        "\n",
        "\n",
        "\n"
      ],
      "execution_count": null,
      "outputs": []
    },
    {
      "cell_type": "markdown",
      "metadata": {
        "id": "u2gWPdodAZym"
      },
      "source": [
        "### 9) ¿Cómo exportar un pandas dataframe a csv? \n",
        "(y directorio de trabajo)"
      ]
    },
    {
      "cell_type": "code",
      "metadata": {
        "id": "W_a3NfXd8pbI"
      },
      "source": [
        "d_star_wars_2.head()"
      ],
      "execution_count": null,
      "outputs": []
    },
    {
      "cell_type": "code",
      "metadata": {
        "id": "nlGcOvcr9o4K"
      },
      "source": [
        "d_star_wars_2.to_csv('d_sw2.csv',  sep=',', index=False)"
      ],
      "execution_count": null,
      "outputs": []
    },
    {
      "cell_type": "code",
      "metadata": {
        "id": "s4jPQjPZ-NiL"
      },
      "source": [
        "import os\n",
        "os.getcwd()"
      ],
      "execution_count": null,
      "outputs": []
    },
    {
      "cell_type": "markdown",
      "metadata": {
        "id": "ZmKJchhV_td_"
      },
      "source": [
        "¿Cómo cambiar el directorio de trabajo?"
      ]
    },
    {
      "cell_type": "code",
      "metadata": {
        "id": "MOTkhjJU-SDH"
      },
      "source": [
        "os.chdir('/content/Drive...')\n",
        "\n",
        "d_star_wars_2.to_csv('d_sw2.csv',  sep=',', index=False)"
      ],
      "execution_count": null,
      "outputs": []
    },
    {
      "cell_type": "code",
      "metadata": {
        "id": "7othkfrcyM3X"
      },
      "source": [
        "\n",
        "\n",
        "\n",
        "\n",
        "\n",
        "\n",
        "\n",
        "\n",
        "\n",
        "\n"
      ],
      "execution_count": null,
      "outputs": []
    },
    {
      "cell_type": "markdown",
      "metadata": {
        "id": "-qSjtRT1FmAM"
      },
      "source": [
        "---"
      ]
    },
    {
      "cell_type": "markdown",
      "metadata": {
        "id": "yu5g1c77FoT0"
      },
      "source": [
        "## Complementa Python con R\n",
        "\n",
        "R esta muy cercano, [visita nuestro blog](https://blog.escueladedatosvivos.ai/) y enterate mas. \n",
        "\n",
        "También tenemos un curso gratuito: [Desembarcando en R > 2da edición](https://escueladedatosvivos.ai/p/curso-desembarcando-en-r-2da-edicion-gratis).\n"
      ]
    },
    {
      "cell_type": "markdown",
      "metadata": {
        "id": "BNhUc2HtD1Tp"
      },
      "source": [
        "<br>\n",
        "\n",
        "---\n",
        "## Ejercicios!\n",
        "\n"
      ]
    },
    {
      "cell_type": "markdown",
      "metadata": {
        "id": "I6X-uSAlD5_n"
      },
      "source": [
        "1) "
      ]
    },
    {
      "cell_type": "markdown",
      "metadata": {
        "id": "uRCsLfAPjLZ8"
      },
      "source": [
        "https://pandas.pydata.org/docs/reference/api/pandas.Series.value_counts.html"
      ]
    },
    {
      "cell_type": "code",
      "metadata": {
        "id": "ORqbP3-ojO30"
      },
      "source": [
        ""
      ],
      "execution_count": null,
      "outputs": []
    },
    {
      "cell_type": "markdown",
      "metadata": {
        "id": "2cvBZ8Y6Asr6"
      },
      "source": [
        "---\n"
      ]
    },
    {
      "cell_type": "markdown",
      "metadata": {
        "id": "7B0ltNM0A2-Z"
      },
      "source": [
        "## Redes para estar actualizado:\n",
        "\n",
        "[Instagram](https://www.instagram.com/escueladedatosvivos/) | [Linkedin](https://www.linkedin.com/company/escuela-de-datos-vivos/) | [Twitter](https://twitter.com/datos_vivos)\n",
        "\n",
        "Por [Escuela de Datos Vivos](https://escueladedatosvivos.ai)\n"
      ]
    },
    {
      "cell_type": "code",
      "metadata": {
        "id": "0iB6_RB2A2K5"
      },
      "source": [
        ""
      ],
      "execution_count": null,
      "outputs": []
    }
  ]
}
